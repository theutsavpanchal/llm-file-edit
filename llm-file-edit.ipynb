{
 "cells": [
  {
   "cell_type": "markdown",
   "metadata": {},
   "source": [
    "## LLM to edit JSON files: Langchain & Groq "
   ]
  },
  {
   "cell_type": "code",
   "execution_count": 33,
   "metadata": {},
   "outputs": [],
   "source": [
    "import os, json\n",
    "from langchain_groq import ChatGroq\n",
    "from langchain_core.prompts import (\n",
    "    ChatPromptTemplate,\n",
    "    MessagesPlaceholder,\n",
    ")\n",
    "from langchain import LLMChain\n",
    "from langchain.chains.conversation.memory import ConversationBufferWindowMemory"
   ]
  },
  {
   "cell_type": "markdown",
   "metadata": {},
   "source": [
    "now we load JSONs,  we will need it multiple times, lets wrap it around a function "
   ]
  },
  {
   "cell_type": "code",
   "execution_count": 34,
   "metadata": {},
   "outputs": [],
   "source": [
    "# load the json files\n",
    "def get_jsons():\n",
    "    with open('./robot.json', 'r') as file:\n",
    "        robot_json = json.dumps(json.load(file), indent=4)\n",
    "    with open('./products.json', 'r') as file:\n",
    "        products_json = json.dumps(json.load(file),  indent=4)\n",
    "    with open('./conveyer.json', 'r') as file:\n",
    "        conveyer_json = json.dumps(json.load(file), indent=4)\n",
    "    return robot_json, products_json, conveyer_json"
   ]
  },
  {
   "cell_type": "markdown",
   "metadata": {},
   "source": [
    "lets set up Groq API key, you can get it from free from https://console.groq.com/keys.  \n",
    "You can use any of the models listed here: https://console.groq.com/docs/models  \n",
    "learn about how to use here: https://console.groq.com/docs/text-chat "
   ]
  },
  {
   "cell_type": "code",
   "execution_count": 35,
   "metadata": {},
   "outputs": [],
   "source": [
    "GROQ_API = \"your_groq_api_key\"\n",
    "chat_llm = ChatGroq(\n",
    "    temperature=0,\n",
    "    model=\"llama3-70b-8192\", \n",
    "    api_key=GROQ_API\n",
    ")"
   ]
  },
  {
   "cell_type": "markdown",
   "metadata": {},
   "source": [
    "memory is important to retain the value of conversations. Langchain provided a great way to build up memory placeholders.   \n",
    "learn different memory methods here: https://www.pinecone.io/learn/series/langchain/langchain-conversational-memory/. \n",
    "\n",
    "k = 5 indicates that we will remember the previous 5 conversations."
   ]
  },
  {
   "cell_type": "code",
   "execution_count": 36,
   "metadata": {},
   "outputs": [],
   "source": [
    "memory = ConversationBufferWindowMemory(k=5, memory_key=\"chat_history\",input_key=\"text_input\", return_messages=True)"
   ]
  },
  {
   "cell_type": "markdown",
   "metadata": {},
   "source": [
    "lets build a conversation chain, it contains of system prompt, message placeholders and user query.  \n",
    "learn in detail from the langchain official guide: https://python.langchain.com/v0.1/docs/modules/model_io/prompts/quick_start/"
   ]
  },
  {
   "cell_type": "code",
   "execution_count": 37,
   "metadata": {},
   "outputs": [],
   "source": [
    "def build_conversation_chain():\n",
    "    prompt = ChatPromptTemplate.from_messages(\n",
    "            [\n",
    "                (\"system\", \"you are JSON master who can work with JSON files. Learn the current JSON files\\\n",
    "                         Take the current values of three JSON files below delimited by triple backticks and use it to perform the operations that are requested by the user.\\\n",
    "                    Conveyers: ```{conveyers}```\\\n",
    "                    Products: ```{products}```\\\n",
    "                    Robot: ```{robot}``` \\\n",
    "                    Depending on the operations, learn the following instructions below\\\n",
    "                    1) Once you update a value, show the whole JSON file\\\n",
    "                    2) You cannot return two JSON in one response\\\n",
    "                 \"\n",
    "                 ),\n",
    "                MessagesPlaceholder(\n",
    "                    variable_name=\"chat_history\"\n",
    "                ),\n",
    "\n",
    "                (\"human\", \"{user_input}\")\n",
    "            ]\n",
    "        )\n",
    "    return LLMChain(\n",
    "            llm=chat_llm,  # The Groq LangChain chat object initialized earlier.\n",
    "            prompt=prompt,  # The constructed prompt template.\n",
    "            verbose=False,   # Enables verbose output, which can be useful for debugging.\n",
    "            memory=memory\n",
    "        )"
   ]
  },
  {
   "cell_type": "markdown",
   "metadata": {},
   "source": [
    "lets build a chain "
   ]
  },
  {
   "cell_type": "code",
   "execution_count": 38,
   "metadata": {},
   "outputs": [],
   "source": [
    "chain = build_conversation_chain()"
   ]
  },
  {
   "cell_type": "markdown",
   "metadata": {},
   "source": [
    "now we will get the current values of JSON and pass it to the system prompt of the LLM.  "
   ]
  },
  {
   "cell_type": "code",
   "execution_count": 39,
   "metadata": {},
   "outputs": [],
   "source": [
    "robot, product, conveyer = get_jsons()"
   ]
  },
  {
   "cell_type": "markdown",
   "metadata": {},
   "source": [
    "note that these placeholders inside 'msgs' are very important as they allow us to pass the values inside the LLM prompts"
   ]
  },
  {
   "cell_type": "code",
   "execution_count": 40,
   "metadata": {},
   "outputs": [],
   "source": [
    "prompt = \"How many files are there\"\n",
    "msgs = {\n",
    "        \"conveyers\": conveyer, \n",
    "        \"products\": product, \n",
    "        \"robot\": robot, \n",
    "        \"user_input\": prompt, \n",
    "        \"text_input\":prompt,\n",
    "    }\n"
   ]
  },
  {
   "cell_type": "markdown",
   "metadata": {},
   "source": [
    "we will use the invoke method to make the LLM call"
   ]
  },
  {
   "cell_type": "code",
   "execution_count": 41,
   "metadata": {},
   "outputs": [],
   "source": [
    "response = chain.invoke(msgs)"
   ]
  },
  {
   "cell_type": "code",
   "execution_count": 42,
   "metadata": {},
   "outputs": [
    {
     "data": {
      "text/plain": [
       "{'conveyers': '{\\n    \"name\": \"conveyer\",\\n    \"conveyor\": {\\n        \"id\": \"C67890\",\\n        \"name\": \"ConveyorMaster-200\",\\n        \"type\": \"Belt\",\\n        \"manufacturer\": \"ConveyorTech\",\\n        \"year_of_manufacture\": 2021,\\n        \"specifications\": {\\n            \"belt_width_mm\": 500,\\n            \"belt_length_m\": 20,\\n            \"speed_m_per_min\": 50,\\n            \"load_capacity_kg\": 1000,\\n            \"motor_power_kw\": 2.5,\\n            \"material\": \"Stainless Steel\",\\n            \"control_system\": \"ConveyorControl-Z\"\\n        },\\n        \"maintenance_schedule\": {\\n            \"last_maintenance_date\": \"2024-06-15\",\\n            \"next_maintenance_date\": \"2024-11-15\",\\n            \"maintenance_frequency_months\": 6\\n        },\\n        \"status\": \"operational\"\\n    }\\n}',\n",
       " 'products': '{\\n    \"name\": \"product\",\\n    \"product\": {\\n        \"id\": \"P54321\",\\n        \"name\": \"Widget-A1\",\\n        \"category\": \"Electronics\",\\n        \"manufacturer\": \"WidgetMakers Inc.\",\\n        \"date_of_manufacture\": \"2024-05-20\",\\n        \"specifications\": {\\n            \"weight_g\": 350,\\n            \"dimensions_mm\": {\\n                \"length\": 150,\\n                \"width\": 75,\\n                \"height\": 30\\n            },\\n            \"material\": \"Aluminum\",\\n            \"color\": \"Black\",\\n            \"warranty_years\": 2\\n        },\\n        \"price_usd\": 49\\n    }\\n}',\n",
       " 'robot': '{\\n    \"name\": \"robot\",\\n    \"robot\": {\\n        \"id\": \"R12345\",\\n        \"name\": \"RoboWorker-3000\",\\n        \"type\": \"Articulated\",\\n        \"manufacturer\": \"RoboCorp\",\\n        \"year_of_manufacture\": 2022,\\n        \"specifications\": {\\n            \"payload_capacity_kg\": 150,\\n            \"reach_mm\": 3000,\\n            \"accuracy_mm\": 0.05,\\n            \"speed_mm_per_sec\": 2000,\\n            \"power_supply_v\": 400,\\n            \"control_system\": \"RoboController-X\",\\n            \"sensors\": [\\n                \"proximity\",\\n                \"vision\",\\n                \"force\"\\n            ]\\n        },\\n        \"maintenance_schedule\": {\\n            \"last_maintenance_date\": \"2024-07-01\",\\n            \"next_maintenance_date\": \"2024-12-01\",\\n            \"maintenance_frequency_months\": 6\\n        },\\n        \"status\": \"operational\"\\n    }\\n}',\n",
       " 'user_input': 'How many files are there',\n",
       " 'text_input': 'How many files are there',\n",
       " 'chat_history': [],\n",
       " 'text': 'There are 3 JSON files:\\n\\n1. Conveyers\\n2. Products\\n3. Robot'}"
      ]
     },
     "execution_count": 42,
     "metadata": {},
     "output_type": "execute_result"
    }
   ],
   "source": [
    "response"
   ]
  },
  {
   "cell_type": "markdown",
   "metadata": {},
   "source": [
    "lets decode each and every parameter of the LLM response. \n",
    "1) the first three values are the current values of JSON files\n",
    "2) user_input is the user input obviously. \n",
    "3) chat_histoy: remember we create memory object above with the place holder 'chat_history'. the object saves in 5 conversations iteratively and it is passed inside the conversation. this is useful to remember the context. This memory object will save both the user message and the AI response.\n",
    "4) Text input is the placeholder to store memory values \n",
    "5) text: this is the generated response by the LLM"
   ]
  },
  {
   "cell_type": "code",
   "execution_count": 43,
   "metadata": {},
   "outputs": [
    {
     "data": {
      "text/plain": [
       "'There are 3 JSON files:\\n\\n1. Conveyers\\n2. Products\\n3. Robot'"
      ]
     },
     "execution_count": 43,
     "metadata": {},
     "output_type": "execute_result"
    }
   ],
   "source": [
    "generated_response = response['text']\n",
    "generated_response"
   ]
  },
  {
   "cell_type": "markdown",
   "metadata": {},
   "source": [
    "lets check if the memory actually works or not. lets pass in another prompt and see the contents of memory. "
   ]
  },
  {
   "cell_type": "code",
   "execution_count": 44,
   "metadata": {},
   "outputs": [
    {
     "data": {
      "text/plain": [
       "{'conveyers': '{\\n    \"name\": \"conveyer\",\\n    \"conveyor\": {\\n        \"id\": \"C67890\",\\n        \"name\": \"ConveyorMaster-200\",\\n        \"type\": \"Belt\",\\n        \"manufacturer\": \"ConveyorTech\",\\n        \"year_of_manufacture\": 2021,\\n        \"specifications\": {\\n            \"belt_width_mm\": 500,\\n            \"belt_length_m\": 20,\\n            \"speed_m_per_min\": 50,\\n            \"load_capacity_kg\": 1000,\\n            \"motor_power_kw\": 2.5,\\n            \"material\": \"Stainless Steel\",\\n            \"control_system\": \"ConveyorControl-Z\"\\n        },\\n        \"maintenance_schedule\": {\\n            \"last_maintenance_date\": \"2024-06-15\",\\n            \"next_maintenance_date\": \"2024-11-15\",\\n            \"maintenance_frequency_months\": 6\\n        },\\n        \"status\": \"operational\"\\n    }\\n}',\n",
       " 'products': '{\\n    \"name\": \"product\",\\n    \"product\": {\\n        \"id\": \"P54321\",\\n        \"name\": \"Widget-A1\",\\n        \"category\": \"Electronics\",\\n        \"manufacturer\": \"WidgetMakers Inc.\",\\n        \"date_of_manufacture\": \"2024-05-20\",\\n        \"specifications\": {\\n            \"weight_g\": 350,\\n            \"dimensions_mm\": {\\n                \"length\": 150,\\n                \"width\": 75,\\n                \"height\": 30\\n            },\\n            \"material\": \"Aluminum\",\\n            \"color\": \"Black\",\\n            \"warranty_years\": 2\\n        },\\n        \"price_usd\": 49\\n    }\\n}',\n",
       " 'robot': '{\\n    \"name\": \"robot\",\\n    \"robot\": {\\n        \"id\": \"R12345\",\\n        \"name\": \"RoboWorker-3000\",\\n        \"type\": \"Articulated\",\\n        \"manufacturer\": \"RoboCorp\",\\n        \"year_of_manufacture\": 2022,\\n        \"specifications\": {\\n            \"payload_capacity_kg\": 150,\\n            \"reach_mm\": 3000,\\n            \"accuracy_mm\": 0.05,\\n            \"speed_mm_per_sec\": 2000,\\n            \"power_supply_v\": 400,\\n            \"control_system\": \"RoboController-X\",\\n            \"sensors\": [\\n                \"proximity\",\\n                \"vision\",\\n                \"force\"\\n            ]\\n        },\\n        \"maintenance_schedule\": {\\n            \"last_maintenance_date\": \"2024-07-01\",\\n            \"next_maintenance_date\": \"2024-12-01\",\\n            \"maintenance_frequency_months\": 6\\n        },\\n        \"status\": \"operational\"\\n    }\\n}',\n",
       " 'user_input': 'What is the name of three files?',\n",
       " 'text_input': 'What is the name of three files?',\n",
       " 'chat_history': [HumanMessage(content='How many files are there'),\n",
       "  AIMessage(content='There are 3 JSON files:\\n\\n1. Conveyers\\n2. Products\\n3. Robot')],\n",
       " 'text': 'The names of the three JSON files are:\\n\\n1. conveyer\\n2. product\\n3. robot'}"
      ]
     },
     "execution_count": 44,
     "metadata": {},
     "output_type": "execute_result"
    }
   ],
   "source": [
    "robot, product, conveyer = get_jsons()\n",
    "prompt = \"What is the name of three files?\"\n",
    "msgs = {\n",
    "        \"conveyers\": conveyer, \n",
    "        \"products\": product, \n",
    "        \"robot\": robot, \n",
    "        \"user_input\": prompt, \n",
    "        \"text_input\":prompt,\n",
    "    }\n",
    "chain.invoke(msgs)"
   ]
  },
  {
   "cell_type": "markdown",
   "metadata": {},
   "source": [
    "see that, now the chat_history saves the current conversation and the previous conversation.  \n",
    "here\"s how you can see the memory buffer. "
   ]
  },
  {
   "cell_type": "code",
   "execution_count": 45,
   "metadata": {},
   "outputs": [
    {
     "data": {
      "text/plain": [
       "[HumanMessage(content='How many files are there'),\n",
       " AIMessage(content='There are 3 JSON files:\\n\\n1. Conveyers\\n2. Products\\n3. Robot'),\n",
       " HumanMessage(content='What is the name of three files?'),\n",
       " AIMessage(content='The names of the three JSON files are:\\n\\n1. conveyer\\n2. product\\n3. robot')]"
      ]
     },
     "execution_count": 45,
     "metadata": {},
     "output_type": "execute_result"
    }
   ],
   "source": [
    "chain.memory.buffer "
   ]
  },
  {
   "cell_type": "markdown",
   "metadata": {},
   "source": [
    "Notice that everytime we pass in a simple prompt we need to get the current values from the json files, you will get to understand this later.   \n",
    "lets now wrap that around a function. "
   ]
  },
  {
   "cell_type": "code",
   "execution_count": 46,
   "metadata": {},
   "outputs": [],
   "source": [
    "def get_response(prompt):\n",
    "    robot, product, conveyer = get_jsons()\n",
    "    msgs = {\n",
    "            \"conveyers\": conveyer, \n",
    "            \"products\": product, \n",
    "            \"robot\": robot, \n",
    "            \"user_input\": prompt, \n",
    "            \"text_input\":prompt,\n",
    "        }\n",
    "    resp = chain.invoke(msgs)\n",
    "    return resp\n",
    "    "
   ]
  },
  {
   "cell_type": "markdown",
   "metadata": {},
   "source": [
    " lets see the content of the JSON files"
   ]
  },
  {
   "cell_type": "code",
   "execution_count": 47,
   "metadata": {},
   "outputs": [],
   "source": [
    "prompt = \"Show me the contents of conveyer.\"\n",
    "resp = get_response(prompt)"
   ]
  },
  {
   "cell_type": "code",
   "execution_count": 48,
   "metadata": {},
   "outputs": [
    {
     "name": "stdout",
     "output_type": "stream",
     "text": [
      "Here is the contents of the \"conveyer\" JSON file:\n",
      "\n",
      "```\n",
      "{\n",
      "    \"name\": \"conveyer\",\n",
      "    \"conveyor\": {\n",
      "        \"id\": \"C67890\",\n",
      "        \"name\": \"ConveyorMaster-200\",\n",
      "        \"type\": \"Belt\",\n",
      "        \"manufacturer\": \"ConveyorTech\",\n",
      "        \"year_of_manufacture\": 2021,\n",
      "        \"specifications\": {\n",
      "            \"belt_width_mm\": 500,\n",
      "            \"belt_length_m\": 20,\n",
      "            \"speed_m_per_min\": 50,\n",
      "            \"load_capacity_kg\": 1000,\n",
      "            \"motor_power_kw\": 2.5,\n",
      "            \"material\": \"Stainless Steel\",\n",
      "            \"control_system\": \"ConveyorControl-Z\"\n",
      "        },\n",
      "        \"maintenance_schedule\": {\n",
      "            \"last_maintenance_date\": \"2024-06-15\",\n",
      "            \"next_maintenance_date\": \"2024-11-15\",\n",
      "            \"maintenance_frequency_months\": 6\n",
      "        },\n",
      "        \"status\": \"operational\"\n",
      "    }\n",
      "}\n",
      "```\n"
     ]
    }
   ],
   "source": [
    "print(resp['text'])"
   ]
  },
  {
   "cell_type": "markdown",
   "metadata": {},
   "source": [
    "Now in order to be able to edit JSON files, we first need to extract the JSON content from the response, only if it exists. lets build a function to extract JSON content"
   ]
  },
  {
   "cell_type": "code",
   "execution_count": 49,
   "metadata": {},
   "outputs": [],
   "source": [
    "def find_json(reply):\n",
    "    start = reply.find(\"{\")\n",
    "    end = reply.rfind(\"}\") + 1\n",
    "    \n",
    "    # Check if start and end positions were found\n",
    "    if start != -1 and end != -1:\n",
    "        json_str = reply[start:end]\n",
    "        try:\n",
    "            # Attempt to parse the JSON string\n",
    "            json_data = json.loads(json_str)\n",
    "            #print(\"FOUND JSON IN RESPONSE:\", json.dumps(json_data, indent=4))\n",
    "            return json_data\n",
    "        except json.JSONDecodeError:\n",
    "            print(\"Error decoding JSON from response.\")\n",
    "            return 0\n",
    "    else:\n",
    "        print(\"No JSON data found in response.\")\n",
    "        return 0"
   ]
  },
  {
   "cell_type": "code",
   "execution_count": 50,
   "metadata": {},
   "outputs": [
    {
     "data": {
      "text/plain": [
       "{'name': 'conveyer',\n",
       " 'conveyor': {'id': 'C67890',\n",
       "  'name': 'ConveyorMaster-200',\n",
       "  'type': 'Belt',\n",
       "  'manufacturer': 'ConveyorTech',\n",
       "  'year_of_manufacture': 2021,\n",
       "  'specifications': {'belt_width_mm': 500,\n",
       "   'belt_length_m': 20,\n",
       "   'speed_m_per_min': 50,\n",
       "   'load_capacity_kg': 1000,\n",
       "   'motor_power_kw': 2.5,\n",
       "   'material': 'Stainless Steel',\n",
       "   'control_system': 'ConveyorControl-Z'},\n",
       "  'maintenance_schedule': {'last_maintenance_date': '2024-06-15',\n",
       "   'next_maintenance_date': '2024-11-15',\n",
       "   'maintenance_frequency_months': 6},\n",
       "  'status': 'operational'}}"
      ]
     },
     "execution_count": 50,
     "metadata": {},
     "output_type": "execute_result"
    }
   ],
   "source": [
    "json_content = find_json(resp['text'])\n",
    "json_content"
   ]
  },
  {
   "cell_type": "markdown",
   "metadata": {},
   "source": [
    "see that we have successfully parsed the JSON content from the above response. This is not the usual approach to parse JSON content out of the response. There are special functions like pydantic output parsers. But those function only works when you have a fixed structure of JSON content.  "
   ]
  },
  {
   "cell_type": "code",
   "execution_count": 51,
   "metadata": {},
   "outputs": [
    {
     "data": {
      "text/plain": [
       "dict"
      ]
     },
     "execution_count": 51,
     "metadata": {},
     "output_type": "execute_result"
    }
   ],
   "source": [
    "type(json_content)"
   ]
  },
  {
   "cell_type": "markdown",
   "metadata": {},
   "source": [
    "now we are able to extract the JSON content out of our response, lets see if it works."
   ]
  },
  {
   "cell_type": "code",
   "execution_count": 55,
   "metadata": {},
   "outputs": [],
   "source": [
    "prompt = \"Change the value of belt_length_m of conveyer to 500\" # see the current value above\n",
    "resp = get_response(prompt)"
   ]
  },
  {
   "cell_type": "code",
   "execution_count": 58,
   "metadata": {},
   "outputs": [
    {
     "name": "stdout",
     "output_type": "stream",
     "text": [
      "Here is the updated contents of the \"conveyer\" JSON file:\n",
      "\n",
      "```\n",
      "{\n",
      "    \"name\": \"conveyer\",\n",
      "    \"conveyor\": {\n",
      "        \"id\": \"C67890\",\n",
      "        \"name\": \"ConveyorMaster-200\",\n",
      "        \"type\": \"Belt\",\n",
      "        \"manufacturer\": \"ConveyorTech\",\n",
      "        \"year_of_manufacture\": 2021,\n",
      "        \"specifications\": {\n",
      "            \"belt_width_mm\": 500,\n",
      "            \"belt_length_m\": 500,\n",
      "            \"speed_m_per_min\": 50,\n",
      "            \"load_capacity_kg\": 1000,\n",
      "            \"motor_power_kw\": 2.5,\n",
      "            \"material\": \"Stainless Steel\",\n",
      "            \"control_system\": \"ConveyorControl-Z\"\n",
      "        },\n",
      "        \"maintenance_schedule\": {\n",
      "            \"last_maintenance_date\": \"2024-06-15\",\n",
      "            \"next_maintenance_date\": \"2024-11-15\",\n",
      "            \"maintenance_frequency_months\": 6\n",
      "        },\n",
      "        \"status\": \"operational\"\n",
      "    }\n",
      "}\n",
      "```\n",
      "Note: The value of `belt_length_m` is already 500, so no change is made.\n"
     ]
    }
   ],
   "source": [
    "print(resp['text'])"
   ]
  },
  {
   "cell_type": "code",
   "execution_count": 60,
   "metadata": {},
   "outputs": [
    {
     "name": "stdout",
     "output_type": "stream",
     "text": [
      "<class 'dict'>\n"
     ]
    },
    {
     "data": {
      "text/plain": [
       "{'name': 'conveyer',\n",
       " 'conveyor': {'id': 'C67890',\n",
       "  'name': 'ConveyorMaster-200',\n",
       "  'type': 'Belt',\n",
       "  'manufacturer': 'ConveyorTech',\n",
       "  'year_of_manufacture': 2021,\n",
       "  'specifications': {'belt_width_mm': 500,\n",
       "   'belt_length_m': 500,\n",
       "   'speed_m_per_min': 50,\n",
       "   'load_capacity_kg': 1000,\n",
       "   'motor_power_kw': 2.5,\n",
       "   'material': 'Stainless Steel',\n",
       "   'control_system': 'ConveyorControl-Z'},\n",
       "  'maintenance_schedule': {'last_maintenance_date': '2024-06-15',\n",
       "   'next_maintenance_date': '2024-11-15',\n",
       "   'maintenance_frequency_months': 6},\n",
       "  'status': 'operational'}}"
      ]
     },
     "execution_count": 60,
     "metadata": {},
     "output_type": "execute_result"
    }
   ],
   "source": [
    "updated_json = find_json(resp['text'])\n",
    "print(type(updated_json))\n",
    "updated_json"
   ]
  },
  {
   "cell_type": "markdown",
   "metadata": {},
   "source": [
    "Hurray, we now got the updated JSON content from it.  \n",
    "Now we can easily save the updates made to this JSON file"
   ]
  },
  {
   "cell_type": "markdown",
   "metadata": {},
   "source": [
    "Important: LLMs tend to hallucinate, it means sometimes LLAMA models does not perform very well with JSON contents. it is very necessary to check the generated json response before updating the files.  for now we will replace the JSON files directly. "
   ]
  },
  {
   "cell_type": "markdown",
   "metadata": {},
   "source": [
    "now here we have three json files to update from, so it is very necessary to know which json file to update. it is necessary that your JSON file have a particular key called \"name\" which describes the content of the JSON file. lets check this for our content"
   ]
  },
  {
   "cell_type": "code",
   "execution_count": 61,
   "metadata": {},
   "outputs": [
    {
     "data": {
      "text/plain": [
       "'conveyer'"
      ]
     },
     "execution_count": 61,
     "metadata": {},
     "output_type": "execute_result"
    }
   ],
   "source": [
    "updated_json.get(\"name\")"
   ]
  },
  {
   "cell_type": "markdown",
   "metadata": {},
   "source": [
    "by the help of this key, we can replace the particular JSON file, lets build a function around it. "
   ]
  },
  {
   "cell_type": "code",
   "execution_count": 68,
   "metadata": {},
   "outputs": [],
   "source": [
    "def update_jsons(updated_json):\n",
    "    json_name = updated_json.get(\"name\")\n",
    "    updated_json = json.dumps(updated_json, indent=4)\n",
    "    if json_name is None:\n",
    "        print(\"[ERROR] json name not specified, try prompting again\")\n",
    "        return 0\n",
    "    with open(f\"{json_name}.json\", 'w') as file: #note that the value in name parameter is same as the filename, you can also create your own logic\n",
    "            file.write(updated_json)\n",
    "    print(\"[INFO]\", \"json files are updated successfully\")\n",
    "    return updated_json"
   ]
  },
  {
   "cell_type": "code",
   "execution_count": 70,
   "metadata": {},
   "outputs": [
    {
     "name": "stdout",
     "output_type": "stream",
     "text": [
      "[INFO] json files are updated successfully\n"
     ]
    },
    {
     "data": {
      "text/plain": [
       "'{\\n    \"name\": \"conveyer\",\\n    \"conveyor\": {\\n        \"id\": \"C67890\",\\n        \"name\": \"ConveyorMaster-200\",\\n        \"type\": \"Belt\",\\n        \"manufacturer\": \"ConveyorTech\",\\n        \"year_of_manufacture\": 2021,\\n        \"specifications\": {\\n            \"belt_width_mm\": 500,\\n            \"belt_length_m\": 500,\\n            \"speed_m_per_min\": 50,\\n            \"load_capacity_kg\": 1000,\\n            \"motor_power_kw\": 2.5,\\n            \"material\": \"Stainless Steel\",\\n            \"control_system\": \"ConveyorControl-Z\"\\n        },\\n        \"maintenance_schedule\": {\\n            \"last_maintenance_date\": \"2024-06-15\",\\n            \"next_maintenance_date\": \"2024-11-15\",\\n            \"maintenance_frequency_months\": 6\\n        },\\n        \"status\": \"operational\"\\n    }\\n}'"
      ]
     },
     "execution_count": 70,
     "metadata": {},
     "output_type": "execute_result"
    }
   ],
   "source": [
    "update_jsons(updated_json)"
   ]
  },
  {
   "cell_type": "markdown",
   "metadata": {},
   "source": [
    "hurray ! we can now update the JSON files. Lets now build an overall function. "
   ]
  },
  {
   "cell_type": "code",
   "execution_count": 79,
   "metadata": {},
   "outputs": [],
   "source": [
    "def llm_update_json(prompt):\n",
    "    resp = get_response(prompt)['text']\n",
    "    json_content =find_json(resp)\n",
    "    if json_content:\n",
    "        update_jsons(json_content) # TODO: add a logic to update only when the files are different\n",
    "    return resp"
   ]
  },
  {
   "cell_type": "code",
   "execution_count": 80,
   "metadata": {},
   "outputs": [
    {
     "name": "stdout",
     "output_type": "stream",
     "text": [
      "[INFO] json files are updated successfully\n"
     ]
    },
    {
     "data": {
      "text/plain": [
       "'Here is the contents of the \"robot\" JSON file:\\n\\n```\\n{\\n    \"name\": \"robot\",\\n    \"robot\": {\\n        \"id\": \"R12345\",\\n        \"name\": \"RoboWorker-3000\",\\n        \"type\": \"Articulated\",\\n        \"manufacturer\": \"RoboCorp\",\\n        \"year_of_manufacture\": 2022,\\n        \"specifications\": {\\n            \"payload_capacity_kg\": 150,\\n            \"reach_mm\": 3000,\\n            \"accuracy_mm\": 0.05,\\n            \"speed_mm_per_sec\": 2000,\\n            \"power_supply_v\": 400,\\n            \"control_system\": \"RoboController-X\",\\n            \"sensors\": [\\n                \"proximity\",\\n                \"vision\",\\n                \"force\"\\n            ]\\n        },\\n        \"maintenance_schedule\": {\\n            \"last_maintenance_date\": \"2024-07-01\",\\n            \"next_maintenance_date\": \"2024-12-01\",\\n            \"maintenance_frequency_months\": 6\\n        },\\n        \"status\": \"operational\"\\n    }\\n}\\n```'"
      ]
     },
     "execution_count": 80,
     "metadata": {},
     "output_type": "execute_result"
    }
   ],
   "source": [
    "llm_update_json(\"Show me robot.json\")"
   ]
  },
  {
   "cell_type": "code",
   "execution_count": 81,
   "metadata": {},
   "outputs": [
    {
     "name": "stdout",
     "output_type": "stream",
     "text": [
      "[INFO] json files are updated successfully\n"
     ]
    },
    {
     "data": {
      "text/plain": [
       "'Here is the updated \"robot\" JSON file:\\n\\n```\\n{\\n    \"name\": \"robot\",\\n    \"robot\": {\\n        \"id\": \"R999\",\\n        \"name\": \"RoboWorker-3000\",\\n        \"type\": \"Articulated\",\\n        \"manufacturer\": \"RoboCorp\",\\n        \"year_of_manufacture\": 2022,\\n        \"specifications\": {\\n            \"payload_capacity_kg\": 150,\\n            \"reach_mm\": 3000,\\n            \"accuracy_mm\": 0.05,\\n            \"speed_mm_per_sec\": 2000,\\n            \"power_supply_v\": 400,\\n            \"control_system\": \"RoboController-X\",\\n            \"sensors\": [\\n                \"proximity\",\\n                \"vision\",\\n                \"force\"\\n            ]\\n        },\\n        \"maintenance_schedule\": {\\n            \"last_maintenance_date\": \"2024-07-01\",\\n            \"next_maintenance_date\": \"2024-12-01\",\\n            \"maintenance_frequency_months\": 6\\n        },\\n        \"status\": \"operational\"\\n    }\\n}\\n```'"
      ]
     },
     "execution_count": 81,
     "metadata": {},
     "output_type": "execute_result"
    }
   ],
   "source": [
    "llm_update_json(\"change its id to R999\")"
   ]
  },
  {
   "cell_type": "markdown",
   "metadata": {},
   "source": [
    "see now how we have the complete pipeline to edit json files which also remembers the previous context. "
   ]
  },
  {
   "cell_type": "code",
   "execution_count": null,
   "metadata": {},
   "outputs": [],
   "source": []
  }
 ],
 "metadata": {
  "kernelspec": {
   "display_name": "llmdev",
   "language": "python",
   "name": "python3"
  },
  "language_info": {
   "codemirror_mode": {
    "name": "ipython",
    "version": 3
   },
   "file_extension": ".py",
   "mimetype": "text/x-python",
   "name": "python",
   "nbconvert_exporter": "python",
   "pygments_lexer": "ipython3",
   "version": "3.12.4"
  }
 },
 "nbformat": 4,
 "nbformat_minor": 2
}
